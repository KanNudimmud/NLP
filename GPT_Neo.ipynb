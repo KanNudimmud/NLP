{
  "nbformat": 4,
  "nbformat_minor": 0,
  "metadata": {
    "colab": {
      "provenance": []
    },
    "kernelspec": {
      "name": "python3",
      "display_name": "Python 3"
    },
    "language_info": {
      "name": "python"
    }
  },
  "cells": [
    {
      "cell_type": "code",
      "execution_count": 1,
      "metadata": {
        "id": "9GSWyjVcRvkq"
      },
      "outputs": [],
      "source": [
        "## Text Generating\n",
        "# Import libraries\n",
        "from transformers import pipeline "
      ]
    },
    {
      "cell_type": "code",
      "source": [
        "# Setup generator\n",
        "generator = pipeline('text-generation', model='EleutherAI/gpt-neo-2.7B')"
      ],
      "metadata": {
        "id": "J0WX_xxCRxeB"
      },
      "execution_count": null,
      "outputs": []
    },
    {
      "cell_type": "code",
      "source": [
        "# Generate Text using Prompt\n",
        "prompt = \"William the third has made unforgettable changes in the English society.\" \n",
        "\n",
        "res = generator(prompt, max_length=200, do_sample=True, temperature=0.9) "
      ],
      "metadata": {
        "id": "mYhrohssRxgY"
      },
      "execution_count": null,
      "outputs": []
    },
    {
      "cell_type": "code",
      "source": [
        "# Output Text\n",
        "print(res[0]['generated_text'])"
      ],
      "metadata": {
        "id": "VaA5Br48RxiU"
      },
      "execution_count": null,
      "outputs": []
    }
  ]
}