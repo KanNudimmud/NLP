{
  "nbformat": 4,
  "nbformat_minor": 0,
  "metadata": {
    "colab": {
      "provenance": []
    },
    "kernelspec": {
      "name": "python3",
      "display_name": "Python 3"
    },
    "language_info": {
      "name": "python"
    }
  },
  "cells": [
    {
      "cell_type": "markdown",
      "source": [
        "# N-Gram Language Modeling"
      ],
      "metadata": {
        "id": "dHHfEZzk0kUT"
      }
    },
    {
      "cell_type": "code",
      "source": [
        "from nltk.corpus import shakespeare\n",
        "from nltk.tokenize import word_tokenize"
      ],
      "metadata": {
        "id": "9WV9Wpbh0m-L"
      },
      "execution_count": 27,
      "outputs": []
    },
    {
      "cell_type": "code",
      "source": [
        "import nltk\n",
        "nltk.download('shakespeare')"
      ],
      "metadata": {
        "colab": {
          "base_uri": "https://localhost:8080/"
        },
        "id": "o8HcH7PU1x97",
        "outputId": "6c160a8d-2c0c-4087-c03f-4b9d536fb89f"
      },
      "execution_count": 28,
      "outputs": [
        {
          "output_type": "stream",
          "name": "stderr",
          "text": [
            "[nltk_data] Downloading package shakespeare to /root/nltk_data...\n",
            "[nltk_data]   Package shakespeare is already up-to-date!\n"
          ]
        },
        {
          "output_type": "execute_result",
          "data": {
            "text/plain": [
              "True"
            ]
          },
          "metadata": {},
          "execution_count": 28
        }
      ]
    },
    {
      "cell_type": "code",
      "source": [
        "print(nltk.corpus.shakespeare.fileids())"
      ],
      "metadata": {
        "colab": {
          "base_uri": "https://localhost:8080/"
        },
        "id": "mGzEQZmf31JQ",
        "outputId": "502535e5-0344-48bc-c723-61a3774ffecf"
      },
      "execution_count": 30,
      "outputs": [
        {
          "output_type": "stream",
          "name": "stdout",
          "text": [
            "['a_and_c.xml', 'dream.xml', 'hamlet.xml', 'j_caesar.xml', 'macbeth.xml', 'merchant.xml', 'othello.xml', 'r_and_j.xml']\n"
          ]
        }
      ]
    },
    {
      "cell_type": "code",
      "source": [
        "# Loading the corpus\n",
        "corpus = shakespeare.words('hamlet.xml')\n",
        "\n",
        "# Case folding and getting vocab\n",
        "lower_case_corpus = [w.lower() for w in corpus]\n",
        "vocab = set(lower_case_corpus)\n",
        "\n",
        "print('CORPUS EXAMPLE: ' + str(lower_case_corpus[:30]) + '\\n\\n')\n",
        "print('VOCAB EXAMPLE: ' + str(list(vocab)[:10]))"
      ],
      "metadata": {
        "colab": {
          "base_uri": "https://localhost:8080/"
        },
        "id": "I6BcNPf30nCq",
        "outputId": "c6e199fc-75fc-4a87-e842-d487628fdbda"
      },
      "execution_count": 31,
      "outputs": [
        {
          "output_type": "stream",
          "name": "stdout",
          "text": [
            "CORPUS EXAMPLE: ['the', 'tragedy', 'of', 'hamlet', ',', 'prince', 'of', 'denmark', 'dramatis', 'personae', 'claudius', ',', 'king', 'of', 'denmark', '.', 'hamlet', ',', 'son', 'to', 'the', 'late', ',', 'and', 'nephew', 'to', 'the', 'present', 'king', '.']\n",
            "\n",
            "\n",
            "VOCAB EXAMPLE: ['often', 'trappings', 'worser', 'shows', 'truepenny', 'screen', 'bearers', 'something', 'ago', 'persuade']\n"
          ]
        }
      ]
    },
    {
      "cell_type": "code",
      "source": [
        "print('Total words in Corpus: ' + str(len(lower_case_corpus)))\n",
        "print('Vocab of the Corpus: ' + str(len(vocab)))"
      ],
      "metadata": {
        "colab": {
          "base_uri": "https://localhost:8080/"
        },
        "id": "cXrHJW_10nE7",
        "outputId": "7827fe6a-1bdf-4242-f6a6-03cc0a75d4bc"
      },
      "execution_count": 32,
      "outputs": [
        {
          "output_type": "stream",
          "name": "stdout",
          "text": [
            "Total words in Corpus: 40379\n",
            "Vocab of the Corpus: 4568\n"
          ]
        }
      ]
    },
    {
      "cell_type": "code",
      "source": [
        "bigram_counts = {}\n",
        "trigram_counts = {}\n",
        "\n",
        "# Sliding through corpus to get bigram and trigram counts\n",
        "for i in range(len(lower_case_corpus) - 2):\n",
        "    # Getting bigram and trigram at each slide\n",
        "    bigram = (lower_case_corpus[i], lower_case_corpus[i+1])\n",
        "    trigram = (lower_case_corpus[i], lower_case_corpus[i+1], lower_case_corpus[i+2])\n",
        "    \n",
        "    # Keeping track of the bigram counts\n",
        "    if bigram in bigram_counts.keys():\n",
        "        bigram_counts[bigram] += 1\n",
        "    else:\n",
        "        bigram_counts[bigram] = 1\n",
        "    \n",
        "    # Keeping track of trigram counts\n",
        "    if trigram in trigram_counts.keys():\n",
        "        trigram_counts[trigram] += 1\n",
        "    else:\n",
        "        trigram_counts[trigram] = 1\n",
        "\n",
        "print(\"Example, count for bigram ('prince', 'of') is: \" + str(bigram_counts[('prince', 'of')]))"
      ],
      "metadata": {
        "colab": {
          "base_uri": "https://localhost:8080/"
        },
        "id": "NAbENQoM0nG9",
        "outputId": "ef669271-40e6-402c-b9a0-e2121fd1e925"
      },
      "execution_count": 35,
      "outputs": [
        {
          "output_type": "stream",
          "name": "stdout",
          "text": [
            "Example, count for bigram ('prince', 'of') is: 2\n"
          ]
        }
      ]
    },
    {
      "cell_type": "code",
      "source": [
        "import nltk\n",
        "nltk.download('punkt')"
      ],
      "metadata": {
        "colab": {
          "base_uri": "https://localhost:8080/"
        },
        "id": "xgIGEGO14WtH",
        "outputId": "f0964f70-f97c-4664-8d92-b93298a6a5e3"
      },
      "execution_count": 38,
      "outputs": [
        {
          "output_type": "stream",
          "name": "stderr",
          "text": [
            "[nltk_data] Downloading package punkt to /root/nltk_data...\n",
            "[nltk_data]   Unzipping tokenizers/punkt.zip.\n"
          ]
        },
        {
          "output_type": "execute_result",
          "data": {
            "text/plain": [
              "True"
            ]
          },
          "metadata": {},
          "execution_count": 38
        }
      ]
    },
    {
      "cell_type": "code",
      "source": [
        "# Function takes sentence as input and suggests possible words that comes after the sentence  \n",
        "def suggest_next_word(input_, bigram_counts, trigram_counts, vocab):\n",
        "    # Consider the last bigram of sentence\n",
        "    tokenized_input = word_tokenize(input_.lower())\n",
        "    last_bigram = tokenized_input[-2:]\n",
        "    \n",
        "    # Calculating probability for each word in vocab\n",
        "    vocab_probabilities = {}\n",
        "    for vocab_word in vocab:\n",
        "        test_trigram = (last_bigram[0], last_bigram[1], vocab_word)\n",
        "        test_bigram = (last_bigram[0], last_bigram[1])\n",
        "\n",
        "        test_trigram_count = trigram_counts.get(test_trigram, 0)\n",
        "        test_bigram_count = bigram_counts.get(test_bigram, 0)\n",
        "        \n",
        "        probability = test_trigram_count / test_bigram_count\n",
        "        vocab_probabilities[vocab_word] = probability\n",
        "    \n",
        "    # Sorting the vocab probability in descending order to get top probable words\n",
        "    top_suggestions = sorted(vocab_probabilities.items(), key=lambda x: x[1], reverse=True)[:3]\n",
        "    return top_suggestions"
      ],
      "metadata": {
        "id": "mmJ0Kc9X0nJb"
      },
      "execution_count": 39,
      "outputs": []
    },
    {
      "cell_type": "code",
      "source": [
        "suggest_next_word('I am the king', bigram_counts, trigram_counts, vocab)"
      ],
      "metadata": {
        "colab": {
          "base_uri": "https://localhost:8080/"
        },
        "id": "mI7sbAJN0vwH",
        "outputId": "f8c73b89-25e6-4474-ec12-22011ab12cd0"
      },
      "execution_count": 40,
      "outputs": [
        {
          "output_type": "execute_result",
          "data": {
            "text/plain": [
              "[(\"'\", 0.14583333333333334), (',', 0.14583333333333334), ('.', 0.125)]"
            ]
          },
          "metadata": {},
          "execution_count": 40
        }
      ]
    },
    {
      "cell_type": "code",
      "source": [
        "suggest_next_word('I am the king of', bigram_counts, trigram_counts, vocab)"
      ],
      "metadata": {
        "colab": {
          "base_uri": "https://localhost:8080/"
        },
        "id": "IN-Mus0o0vx_",
        "outputId": "2d4cff0d-c384-4789-f506-f1ca43c7d461"
      },
      "execution_count": 41,
      "outputs": [
        {
          "output_type": "execute_result",
          "data": {
            "text/plain": [
              "[('denmark', 0.5), ('shreds', 0.25), ('infinite', 0.25)]"
            ]
          },
          "metadata": {},
          "execution_count": 41
        }
      ]
    },
    {
      "cell_type": "code",
      "source": [
        "suggest_next_word('I am the king of denmark', bigram_counts, trigram_counts, vocab)"
      ],
      "metadata": {
        "colab": {
          "base_uri": "https://localhost:8080/"
        },
        "id": "RcmKyD--0nLc",
        "outputId": "a403706a-9b13-419c-f658-42804e9a0e74"
      },
      "execution_count": 42,
      "outputs": [
        {
          "output_type": "execute_result",
          "data": {
            "text/plain": [
              "[(',', 0.2), ('.', 0.2), ('goes', 0.1)]"
            ]
          },
          "metadata": {},
          "execution_count": 42
        }
      ]
    },
    {
      "cell_type": "code",
      "source": [
        "suggest_next_word('I am the king of denmark,', bigram_counts, trigram_counts, vocab)"
      ],
      "metadata": {
        "colab": {
          "base_uri": "https://localhost:8080/"
        },
        "id": "d5QY7UiH0zn4",
        "outputId": "1df24d6a-fb2e-4438-a4b1-62f54d799649"
      },
      "execution_count": 44,
      "outputs": [
        {
          "output_type": "execute_result",
          "data": {
            "text/plain": [
              "[('and', 0.6666666666666666), ('to', 0.3333333333333333), ('often', 0.0)]"
            ]
          },
          "metadata": {},
          "execution_count": 44
        }
      ]
    },
    {
      "cell_type": "code",
      "source": [],
      "metadata": {
        "id": "C_d0McnB0zp6"
      },
      "execution_count": null,
      "outputs": []
    }
  ]
}