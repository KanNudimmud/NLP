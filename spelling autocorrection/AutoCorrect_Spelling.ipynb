{
  "nbformat": 4,
  "nbformat_minor": 0,
  "metadata": {
    "colab": {
      "provenance": []
    },
    "kernelspec": {
      "name": "python3",
      "display_name": "Python 3"
    },
    "language_info": {
      "name": "python"
    }
  },
  "cells": [
    {
      "cell_type": "markdown",
      "source": [
        "# Autocorrection of Spelling\n",
        "\n",
        "Source : https://raw.githubusercontent.com/brunoklein99/deep-learning-notes/master/shakespeare.txt"
      ],
      "metadata": {
        "id": "PvLrMGg9LD9-"
      }
    },
    {
      "cell_type": "markdown",
      "source": [
        "# Step 1: Identifying a Misspelled Word\n",
        "\n"
      ],
      "metadata": {
        "id": "SMvweVUeHrVt"
      }
    },
    {
      "cell_type": "markdown",
      "source": [
        "# Step 2: Find Strings that are n edit distance away from the misspelled word\n",
        "\n",
        "## Edit Operations:\n",
        "- Insert(add a letter): 'to' -> 'top','two'\n",
        "- Delete(remove a letter): 'hat' -> 'at'\n",
        "- Swap: 'eta' -> 'tea', 'eat'\n",
        "- Replace: 'jaw' -> 'jar', 'paw'"
      ],
      "metadata": {
        "id": "KhOcz_YmISKY"
      }
    },
    {
      "cell_type": "markdown",
      "source": [
        "# Step 3: Filter suggested candidates to retain only the ones found in the vocabulary"
      ],
      "metadata": {
        "id": "N9cLxTBxIYmX"
      }
    },
    {
      "cell_type": "markdown",
      "source": [
        "# Step 4: Order filtered candidates based on word probabilities"
      ],
      "metadata": {
        "id": "awdqouDwIjO1"
      }
    },
    {
      "cell_type": "markdown",
      "source": [
        "## Calculating word probabilities\n",
        "P(w) = C(w) / V where,\n",
        "- P(w) is the probability of a word w,\n",
        "- C(w) is the number of times a word w appears in the corpus\n",
        "- V is the total number of words in the corpus"
      ],
      "metadata": {
        "id": "MqhdSIlPJ6nW"
      }
    },
    {
      "cell_type": "markdown",
      "source": [
        "# Step 5: Choose the most likely candidate"
      ],
      "metadata": {
        "id": "fwrWb6OBIpB_"
      }
    },
    {
      "cell_type": "code",
      "source": [
        "# Import libraries\n",
        "import re\n",
        "import string\n",
        "from collections import Counter\n",
        "import numpy as np"
      ],
      "metadata": {
        "id": "qQwaiOaWLJ95"
      },
      "execution_count": 16,
      "outputs": []
    },
    {
      "cell_type": "code",
      "source": [
        "# Write a function for reading text file\n",
        "def read_corpus(filename):\n",
        "  with open(filename, \"r\") as file:\n",
        "    lines = file.readlines()\n",
        "    words = []\n",
        "    for line in lines:\n",
        "      words += re.findall(r'\\w+', line.lower())\n",
        "  return words"
      ],
      "metadata": {
        "id": "sg3p_Se1MEof"
      },
      "execution_count": 17,
      "outputs": []
    },
    {
      "cell_type": "code",
      "source": [
        "# Read words in the text\n",
        "words = read_corpus(\"shakespeare.txt\")\n",
        "print(f\"There are {len(words)} total words in the corpus\")"
      ],
      "metadata": {
        "colab": {
          "base_uri": "https://localhost:8080/"
        },
        "id": "-as33izzMTZx",
        "outputId": "adb90c89-c8ea-4c3f-b148-1592ecb0f658"
      },
      "execution_count": 18,
      "outputs": [
        {
          "output_type": "stream",
          "name": "stdout",
          "text": [
            "There are 17976 total words in the corpus\n"
          ]
        }
      ]
    },
    {
      "cell_type": "code",
      "source": [
        "vocabs = set(words)\n",
        "print(f\"There are {len(vocabs)} unique words in the vocabulary\")"
      ],
      "metadata": {
        "colab": {
          "base_uri": "https://localhost:8080/"
        },
        "id": "-JbWbjcOMfpT",
        "outputId": "748847b9-ddf4-4afb-97aa-db73ea1a5436"
      },
      "execution_count": 19,
      "outputs": [
        {
          "output_type": "stream",
          "name": "stdout",
          "text": [
            "There are 3086 unique words in the vocabulary\n"
          ]
        }
      ]
    },
    {
      "cell_type": "code",
      "source": [
        "word_counts = Counter(words)\n",
        "print(word_counts[\"love\"])"
      ],
      "metadata": {
        "colab": {
          "base_uri": "https://localhost:8080/"
        },
        "id": "h9tjBmduMiND",
        "outputId": "c96cfa70-e107-4480-f0e0-0a4357c5fd3e"
      },
      "execution_count": 20,
      "outputs": [
        {
          "output_type": "stream",
          "name": "stdout",
          "text": [
            "194\n"
          ]
        }
      ]
    },
    {
      "cell_type": "code",
      "source": [
        "total_word_count = float(sum(word_counts.values()))\n",
        "word_probas = {word: word_counts[word] / total_word_count for word in word_counts.keys()}\n",
        "print(word_probas[\"love\"])"
      ],
      "metadata": {
        "colab": {
          "base_uri": "https://localhost:8080/"
        },
        "id": "PF7s-YeLMlUX",
        "outputId": "f4fa4073-766a-4c37-a98e-161f26b8a1fc"
      },
      "execution_count": 21,
      "outputs": [
        {
          "output_type": "stream",
          "name": "stdout",
          "text": [
            "0.01079216733422341\n"
          ]
        }
      ]
    },
    {
      "cell_type": "code",
      "source": [
        "# Write a function for splitting letters in words\n",
        "def split(word):\n",
        "  return [(word[:i], word[i:]) for i in range(len(word) + 1)]\n",
        "\n",
        "print(split(\"trash\")) "
      ],
      "metadata": {
        "colab": {
          "base_uri": "https://localhost:8080/"
        },
        "id": "AqNGgqz7Mr30",
        "outputId": "f2a5df8c-7abf-46a2-ea20-9bcb7bb79f9e"
      },
      "execution_count": 22,
      "outputs": [
        {
          "output_type": "stream",
          "name": "stdout",
          "text": [
            "[('', 'trash'), ('t', 'rash'), ('tr', 'ash'), ('tra', 'sh'), ('tras', 'h'), ('trash', '')]\n"
          ]
        }
      ]
    },
    {
      "cell_type": "code",
      "source": [
        "# Write a function for deleting letters in words\n",
        "def delete(word):\n",
        "  return [l + r[1:] for l,r in split(word) if r]\n",
        "\n",
        "print(delete(\"trash\"))"
      ],
      "metadata": {
        "colab": {
          "base_uri": "https://localhost:8080/"
        },
        "id": "nBlIZqU1M4FK",
        "outputId": "7bdfa12c-b94a-4bf7-8a3e-5f5aae8b0967"
      },
      "execution_count": 23,
      "outputs": [
        {
          "output_type": "stream",
          "name": "stdout",
          "text": [
            "['rash', 'tash', 'trsh', 'trah', 'tras']\n"
          ]
        }
      ]
    },
    {
      "cell_type": "code",
      "source": [
        "# Write a function for swapping letters in words\n",
        "def swap(word):\n",
        "  return [l + r[1] + r[0] + r[2:] for l, r in split(word) if len(r)>1]\n",
        "\n",
        "print(swap(\"trash\"))"
      ],
      "metadata": {
        "colab": {
          "base_uri": "https://localhost:8080/"
        },
        "id": "8MjynlvHM__G",
        "outputId": "db2cda5b-1d4f-45c4-b942-2c8de7e0ffc2"
      },
      "execution_count": 24,
      "outputs": [
        {
          "output_type": "stream",
          "name": "stdout",
          "text": [
            "['rtash', 'tarsh', 'trsah', 'trahs']\n"
          ]
        }
      ]
    },
    {
      "cell_type": "code",
      "source": [
        "# Write a function for replacing letters in words\n",
        "def replace(word):\n",
        "  letters = string.ascii_lowercase\n",
        "  return [l + c + r[1:] for l, r in split(word) if r for c in letters]\n",
        "\n",
        "print(replace(\"trash\"))"
      ],
      "metadata": {
        "colab": {
          "base_uri": "https://localhost:8080/"
        },
        "id": "ZqMKnbyPNIV0",
        "outputId": "9c652a85-77c9-4718-bb95-1236597f9d18"
      },
      "execution_count": 25,
      "outputs": [
        {
          "output_type": "stream",
          "name": "stdout",
          "text": [
            "['arash', 'brash', 'crash', 'drash', 'erash', 'frash', 'grash', 'hrash', 'irash', 'jrash', 'krash', 'lrash', 'mrash', 'nrash', 'orash', 'prash', 'qrash', 'rrash', 'srash', 'trash', 'urash', 'vrash', 'wrash', 'xrash', 'yrash', 'zrash', 'taash', 'tbash', 'tcash', 'tdash', 'teash', 'tfash', 'tgash', 'thash', 'tiash', 'tjash', 'tkash', 'tlash', 'tmash', 'tnash', 'toash', 'tpash', 'tqash', 'trash', 'tsash', 'ttash', 'tuash', 'tvash', 'twash', 'txash', 'tyash', 'tzash', 'trash', 'trbsh', 'trcsh', 'trdsh', 'tresh', 'trfsh', 'trgsh', 'trhsh', 'trish', 'trjsh', 'trksh', 'trlsh', 'trmsh', 'trnsh', 'trosh', 'trpsh', 'trqsh', 'trrsh', 'trssh', 'trtsh', 'trush', 'trvsh', 'trwsh', 'trxsh', 'trysh', 'trzsh', 'traah', 'trabh', 'trach', 'tradh', 'traeh', 'trafh', 'tragh', 'trahh', 'traih', 'trajh', 'trakh', 'tralh', 'tramh', 'tranh', 'traoh', 'traph', 'traqh', 'trarh', 'trash', 'trath', 'trauh', 'travh', 'trawh', 'traxh', 'trayh', 'trazh', 'trasa', 'trasb', 'trasc', 'trasd', 'trase', 'trasf', 'trasg', 'trash', 'trasi', 'trasj', 'trask', 'trasl', 'trasm', 'trasn', 'traso', 'trasp', 'trasq', 'trasr', 'trass', 'trast', 'trasu', 'trasv', 'trasw', 'trasx', 'trasy', 'trasz']\n"
          ]
        }
      ]
    },
    {
      "cell_type": "code",
      "source": [
        "# Write a function for inserting letters in words\n",
        "def insert(word):\n",
        "  letters = string.ascii_lowercase\n",
        "  return [l + c + r for l, r in split(word) for c in letters]\n",
        "\n",
        "print(insert(\"trash\"))"
      ],
      "metadata": {
        "colab": {
          "base_uri": "https://localhost:8080/"
        },
        "id": "Yx7MuXMjNUQ5",
        "outputId": "26bfe6f1-e025-4efc-a356-56bd07e1c2bb"
      },
      "execution_count": 26,
      "outputs": [
        {
          "output_type": "stream",
          "name": "stdout",
          "text": [
            "['atrash', 'btrash', 'ctrash', 'dtrash', 'etrash', 'ftrash', 'gtrash', 'htrash', 'itrash', 'jtrash', 'ktrash', 'ltrash', 'mtrash', 'ntrash', 'otrash', 'ptrash', 'qtrash', 'rtrash', 'strash', 'ttrash', 'utrash', 'vtrash', 'wtrash', 'xtrash', 'ytrash', 'ztrash', 'tarash', 'tbrash', 'tcrash', 'tdrash', 'terash', 'tfrash', 'tgrash', 'thrash', 'tirash', 'tjrash', 'tkrash', 'tlrash', 'tmrash', 'tnrash', 'torash', 'tprash', 'tqrash', 'trrash', 'tsrash', 'ttrash', 'turash', 'tvrash', 'twrash', 'txrash', 'tyrash', 'tzrash', 'traash', 'trbash', 'trcash', 'trdash', 'treash', 'trfash', 'trgash', 'trhash', 'triash', 'trjash', 'trkash', 'trlash', 'trmash', 'trnash', 'troash', 'trpash', 'trqash', 'trrash', 'trsash', 'trtash', 'truash', 'trvash', 'trwash', 'trxash', 'tryash', 'trzash', 'traash', 'trabsh', 'tracsh', 'tradsh', 'traesh', 'trafsh', 'tragsh', 'trahsh', 'traish', 'trajsh', 'traksh', 'tralsh', 'tramsh', 'transh', 'traosh', 'trapsh', 'traqsh', 'trarsh', 'trassh', 'tratsh', 'traush', 'travsh', 'trawsh', 'traxsh', 'traysh', 'trazsh', 'trasah', 'trasbh', 'trasch', 'trasdh', 'traseh', 'trasfh', 'trasgh', 'trashh', 'trasih', 'trasjh', 'traskh', 'traslh', 'trasmh', 'trasnh', 'trasoh', 'trasph', 'trasqh', 'trasrh', 'trassh', 'trasth', 'trasuh', 'trasvh', 'traswh', 'trasxh', 'trasyh', 'traszh', 'trasha', 'trashb', 'trashc', 'trashd', 'trashe', 'trashf', 'trashg', 'trashh', 'trashi', 'trashj', 'trashk', 'trashl', 'trashm', 'trashn', 'trasho', 'trashp', 'trashq', 'trashr', 'trashs', 'trasht', 'trashu', 'trashv', 'trashw', 'trashx', 'trashy', 'trashz']\n"
          ]
        }
      ]
    },
    {
      "cell_type": "code",
      "source": [
        "# Write editing functions\n",
        "def edit1(word):\n",
        "  return set(delete(word) + swap(word) + replace(word) + insert(word))\n",
        "\n",
        "def edit2(word):\n",
        "  return set(e2 for e1 in edit1(word) for e2 in edit1(e1))\n",
        "\n",
        "print(edit1(\"trash\"))"
      ],
      "metadata": {
        "colab": {
          "base_uri": "https://localhost:8080/"
        },
        "id": "UPZWKnciNeoN",
        "outputId": "1e612b6b-cb22-4281-dbb4-84e21f1b3483"
      },
      "execution_count": 27,
      "outputs": [
        {
          "output_type": "stream",
          "name": "stdout",
          "text": [
            "{'strash', 'trasv', 'trxash', 'tjash', 'tyash', 'tpash', 'trashq', 'tgash', 'trasmh', 'tmash', 'trjsh', 'srash', 'tkash', 'rrash', 'trasch', 'thash', 'tralh', 'trnash', 'trdsh', 'itrash', 'nrash', 'dtrash', 'treash', 'frash', 'vrash', 'trassh', 'trashk', 'trkash', 'qrash', 'trrsh', 'traslh', 'trashx', 'trasph', 'toash', 'trasi', 'ztrash', 'trahsh', 'trakh', 'zrash', 'trzash', 'trxsh', 'trhsh', 'twrash', 'trcash', 'transh', 'trasb', 'trasqh', 'rtash', 'lrash', 'ktrash', 'trasbh', 'yrash', 'trasrh', 'trajh', 'trasz', 'trmsh', 'tfash', 'traseh', 'trashz', 'traish', 'trashm', 'trasa', 'trwash', 'tsrash', 'trashb', 'trasoh', 'etrash', 'trasha', 'trasp', 'traosh', 'trawsh', 'trksh', 'tcrash', 'trast', 'trashv', 'trhash', 'truash', 'tcash', 'trashh', 'trashi', 'tryash', 'erash', 'traih', 'ptrash', 'traesh', 'thrash', 'trasf', 'traxh', 'trasq', 'trasth', 'mtrash', 'tradh', 'atrash', 'tvrash', 'ltrash', 'trbash', 'trasih', 'vtrash', 'trasdh', 'tvash', 'tash', 'tramh', 'trasu', 'qtrash', 'traqh', 'trayh', 'orash', 'trssh', 'trvsh', 'turash', 'trdash', 'trlash', 'tramsh', 'trashc', 'troash', 'trasjh', 'drash', 'trash', 'tgrash', 'tzrash', 'trush', 'trasnh', 'torash', 'triash', 'trarsh', 'tirash', 'trasgh', 'tracsh', 'trsah', 'trazsh', 'trasg', 'trah', 'trasl', 'prash', 'taash', 'traqsh', 'trasn', 'trnsh', 'traxsh', 'trafh', 'hrash', 'trvash', 'trasd', 'trashj', 'gtrash', 'trsh', 'trahh', 'traskh', 'trgsh', 'trach', 'trjash', 'trasah', 'tragh', 'trashl', 'twash', 'trashy', 'tsash', 'tdash', 'tradsh', 'tresh', 'traoh', 'htrash', 'trahs', 'trosh', 'trabh', 'trysh', 'traush', 'trapsh', 'btrash', 'trashu', 'crash', 'trbsh', 'tiash', 'wrash', 'trabsh', 'travh', 'tzash', 'trauh', 'traysh', 'trqsh', 'ntrash', 'xtrash', 'grash', 'irash', 'trrash', 'trpash', 'trqash', 'trasxh', 'traph', 'jrash', 'rash', 'tnash', 'tdrash', 'krash', 'xrash', 'travsh', 'trawh', 'rtrash', 'traash', 'trath', 'trasht', 'tras', 'trfash', 'trask', 'trasfh', 'trlsh', 'trzsh', 'ytrash', 'traso', 'tuash', 'trtsh', 'trashs', 'tbash', 'trasho', 'trarh', 'teash', 'trfsh', 'traswh', 'brash', 'trasx', 'tprash', 'otrash', 'trtash', 'trasj', 'trashw', 'ttrash', 'tragsh', 'trashd', 'traksh', 'wtrash', 'tarsh', 'trish', 'trpsh', 'trasy', 'trgash', 'trwsh', 'trashp', 'trazh', 'urash', 'tmrash', 'trashf', 'trmash', 'tqrash', 'tranh', 'tqash', 'ctrash', 'terash', 'traeh', 'tnrash', 'trase', 'traah', 'tbrash', 'trasvh', 'tarash', 'trasyh', 'tratsh', 'trcsh', 'traszh', 'trasr', 'trashg', 'tralsh', 'ftrash', 'jtrash', 'utrash', 'trashr', 'ttash', 'trsash', 'tfrash', 'trajsh', 'trasuh', 'trashe', 'trass', 'txash', 'tkrash', 'tlrash', 'trafsh', 'tyrash', 'txrash', 'tlash', 'trashn', 'trasm', 'tjrash', 'trasc', 'arash', 'mrash', 'trasw'}\n"
          ]
        }
      ]
    },
    {
      "cell_type": "code",
      "source": [
        "# Write a function for correct spelling\n",
        "def correct_spelling(word, vocabulary, word_probabilities):\n",
        "  if word in vocabulary:\n",
        "    print(f\"{word} is already correctly spelt\")\n",
        "    return \n",
        "\n",
        "  suggestions = edit1(word) or edit2(word) or [word]\n",
        "  best_guesses = [w for w in suggestions if w in vocabulary]\n",
        "  return [(w, word_probabilities[w]) for w in best_guesses]"
      ],
      "metadata": {
        "id": "_k0K-W_JHri9"
      },
      "execution_count": 28,
      "outputs": []
    },
    {
      "cell_type": "code",
      "source": [
        "# Example\n",
        "word = \"roght\"\n",
        "corrections = correct_spelling(word, vocabs, word_probas)\n",
        "\n",
        "if corrections:\n",
        "  print(corrections)\n",
        "  probs = np.array([c[1] for c in corrections])\n",
        "  best_ix = np.argmax(probs)\n",
        "  correct = corrections[best_ix][0]\n",
        "  print(f\"{correct} is suggested for {word}\")"
      ],
      "metadata": {
        "colab": {
          "base_uri": "https://localhost:8080/"
        },
        "id": "dlFl2wp9Hr19",
        "outputId": "bd91a301-af0e-4163-c722-552fea464fc9"
      },
      "execution_count": 30,
      "outputs": [
        {
          "output_type": "stream",
          "name": "stdout",
          "text": [
            "[('right', 0.0005562972852692479)]\n",
            "right is suggested for roght\n"
          ]
        }
      ]
    },
    {
      "cell_type": "code",
      "source": [
        "class SpellChecker(object):\n",
        "\n",
        "  def __init__(self, corpus_file_path):\n",
        "    with open(corpus_file_path, \"r\") as file:\n",
        "      lines = file.readlines()\n",
        "      words = []\n",
        "      for line in lines:\n",
        "        words += re.findall(r'\\w+', line.lower())\n",
        "\n",
        "    self.vocabs = set(words)\n",
        "    self.word_counts = Counter(words)\n",
        "    total_words = float(sum(self.word_counts.values()))\n",
        "    self.word_probas = {word: self.word_counts[word] / total_words for word in self.vocabs}\n",
        "\n",
        "  def _level_one_edits(self, word):\n",
        "    letters = string.ascii_lowercase\n",
        "    splits = [(word[:i], word[i:]) for i in range(len(word) + 1)]\n",
        "    deletes = [l + r[1:] for l,r in splits if r]\n",
        "    swaps = [l + r[1] + r[0] + r[2:] for l, r in splits if len(r)>1]\n",
        "    replaces = [l + c + r[1:] for l, r in splits if r for c in letters]\n",
        "    inserts = [l + c + r for l, r in splits for c in letters] \n",
        "\n",
        "    return set(deletes + swaps + replaces + inserts)\n",
        "\n",
        "  def _level_two_edits(self, word):\n",
        "    return set(e2 for e1 in self._level_one_edits(word) for e2 in self._level_one_edits(e1))\n",
        "\n",
        "  def check(self, word):\n",
        "    candidates = self._level_one_edits(word) or self._level_two_edits(word) or [word]\n",
        "    valid_candidates = [w for w in candidates if w in self.vocabs]\n",
        "    return sorted([(c, self.word_probas[c]) for c in valid_candidates], key=lambda tup: tup[1], reverse=True)"
      ],
      "metadata": {
        "id": "LtfAc-AtHr4T"
      },
      "execution_count": 31,
      "outputs": []
    },
    {
      "cell_type": "code",
      "source": [
        "checker = SpellChecker(\"shakespeare.txt\")"
      ],
      "metadata": {
        "id": "vabsZGJ_Hr8i"
      },
      "execution_count": 32,
      "outputs": []
    },
    {
      "cell_type": "code",
      "source": [
        "checker.check(\"tresh\")"
      ],
      "metadata": {
        "colab": {
          "base_uri": "https://localhost:8080/"
        },
        "id": "NhjKkcxnHr-m",
        "outputId": "b4987e39-b281-4823-a762-1c027d6e1bfc"
      },
      "execution_count": 41,
      "outputs": [
        {
          "output_type": "execute_result",
          "data": {
            "text/plain": [
              "[('fresh', 0.0003894080996884735)]"
            ]
          },
          "metadata": {},
          "execution_count": 41
        }
      ]
    },
    {
      "cell_type": "code",
      "source": [],
      "metadata": {
        "id": "bcAgZ8I2HsA7"
      },
      "execution_count": null,
      "outputs": []
    }
  ]
}